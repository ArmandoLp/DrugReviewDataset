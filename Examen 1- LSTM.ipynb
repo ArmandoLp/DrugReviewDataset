{
 "cells": [
  {
   "cell_type": "code",
   "execution_count": 1,
   "id": "565aa9ec",
   "metadata": {},
   "outputs": [
    {
     "name": "stdout",
     "output_type": "stream",
     "text": [
      "WARNING:tensorflow:From /Users/joselopez/opt/miniconda3/envs/mlp/lib/python3.7/site-packages/tensorflow_core/python/compat/v2_compat.py:65: disable_resource_variables (from tensorflow.python.ops.variable_scope) is deprecated and will be removed in a future version.\n",
      "Instructions for updating:\n",
      "non-resource variables are not supported in the long term\n"
     ]
    },
    {
     "name": "stderr",
     "output_type": "stream",
     "text": [
      "Using TensorFlow backend.\n"
     ]
    }
   ],
   "source": [
    "import numpy as np\n",
    "import pandas as pd\n",
    "import seaborn as sns\n",
    "import matplotlib.pyplot as plt\n",
    "import nltk\n",
    "from sklearn.feature_extraction.text import CountVectorizer\n",
    "from sklearn.feature_extraction.text import TfidfVectorizer\n",
    "from sklearn.preprocessing import LabelBinarizer\n",
    "from nltk.corpus import stopwords\n",
    "from nltk.stem.porter import PorterStemmer\n",
    "from wordcloud import WordCloud,STOPWORDS\n",
    "from nltk.stem import WordNetLemmatizer\n",
    "from nltk.tokenize import word_tokenize,sent_tokenize\n",
    "from bs4 import BeautifulSoup\n",
    "import spacy\n",
    "import re,string,unicodedata\n",
    "from nltk.tokenize.toktok import ToktokTokenizer\n",
    "from nltk.stem import LancasterStemmer,WordNetLemmatizer\n",
    "from sklearn.linear_model import LogisticRegression,SGDClassifier\n",
    "from sklearn.naive_bayes import MultinomialNB\n",
    "from sklearn.svm import SVC\n",
    "from textblob import TextBlob\n",
    "from textblob import Word\n",
    "from sklearn.metrics import classification_report,confusion_matrix,accuracy_score, auc, roc_curve\n",
    "from sklearn import metrics\n",
    "from sklearn.model_selection import train_test_split\n",
    "from keras.wrappers.scikit_learn import KerasClassifier\n",
    "import unidecode\n",
    "import string\n",
    "\n",
    "import sklearn\n",
    "import ssl\n",
    "import os\n",
    "import warnings\n",
    "warnings.filterwarnings('ignore')\n",
    "\n",
    "\n",
    "import tensorflow.compat.v1 as tf\n",
    "tf.disable_v2_behavior()\n",
    "import tensorflow\n",
    "tensorflow.compat.v1.enable_eager_execution()\n",
    "\n",
    "import tensorflow_hub as hub\n",
    "from keras.layers import LSTM, embeddings, Dense, Embedding\n",
    "import keras\n",
    "import tensorflow as tf\n"
   ]
  },
  {
   "cell_type": "code",
   "execution_count": 2,
   "id": "6e92e746",
   "metadata": {},
   "outputs": [
    {
     "name": "stderr",
     "output_type": "stream",
     "text": [
      "[nltk_data] Downloading package stopwords to\n",
      "[nltk_data]     /Users/joselopez/nltk_data...\n",
      "[nltk_data]   Unzipping corpora/stopwords.zip.\n"
     ]
    },
    {
     "data": {
      "text/plain": [
       "True"
      ]
     },
     "execution_count": 2,
     "metadata": {},
     "output_type": "execute_result"
    }
   ],
   "source": [
    "\n",
    "try:\n",
    "    _create_unverified_https_context = ssl._create_unverified_context\n",
    "except AttributeError:\n",
    "    pass\n",
    "else:\n",
    "    ssl._create_default_https_context = _create_unverified_https_context\n",
    "\n",
    "nltk.download('stopwords')"
   ]
  },
  {
   "cell_type": "code",
   "execution_count": 3,
   "id": "050158de",
   "metadata": {},
   "outputs": [],
   "source": [
    "df=pd.read_csv('./drugsCom_raw/drugsComTrain_raw.tsv', sep='\\t',index_col=0 )"
   ]
  },
  {
   "cell_type": "code",
   "execution_count": 4,
   "id": "be0406a2",
   "metadata": {},
   "outputs": [
    {
     "data": {
      "text/plain": [
       "drugName         0\n",
       "condition      899\n",
       "review           0\n",
       "rating           0\n",
       "date             0\n",
       "usefulCount      0\n",
       "dtype: int64"
      ]
     },
     "execution_count": 4,
     "metadata": {},
     "output_type": "execute_result"
    }
   ],
   "source": [
    "df.isna().sum()\n"
   ]
  },
  {
   "cell_type": "code",
   "execution_count": 5,
   "id": "c1abce5b",
   "metadata": {},
   "outputs": [],
   "source": [
    "df=df[['review','rating']]"
   ]
  },
  {
   "cell_type": "code",
   "execution_count": 6,
   "id": "6f7ce140",
   "metadata": {},
   "outputs": [],
   "source": [
    "df=df.sample(3000).reset_index(drop=True)"
   ]
  },
  {
   "cell_type": "code",
   "execution_count": 7,
   "id": "e8857f79",
   "metadata": {},
   "outputs": [
    {
     "data": {
      "text/plain": [
       "array([10.,  5.,  6.,  1.,  8.,  9.,  7.,  2.,  3.,  4.])"
      ]
     },
     "execution_count": 7,
     "metadata": {},
     "output_type": "execute_result"
    }
   ],
   "source": [
    "df.rating.drop_duplicates().values"
   ]
  },
  {
   "cell_type": "code",
   "execution_count": 8,
   "id": "ca0f76e2",
   "metadata": {},
   "outputs": [],
   "source": [
    "\n",
    "stopword_list=nltk.corpus.stopwords.words('english')"
   ]
  },
  {
   "cell_type": "code",
   "execution_count": 9,
   "id": "9e82f660",
   "metadata": {},
   "outputs": [
    {
     "data": {
      "text/plain": [
       "3000"
      ]
     },
     "execution_count": 9,
     "metadata": {},
     "output_type": "execute_result"
    }
   ],
   "source": [
    "len(df)"
   ]
  },
  {
   "cell_type": "code",
   "execution_count": 10,
   "id": "b2fef8b7",
   "metadata": {},
   "outputs": [],
   "source": [
    "stop=stopword_list\n",
    "\n",
    "def remove_stopwords(text):\n",
    "    \n",
    "    text=text.lower()\n",
    "    text=re.sub(r'\\d+', '', text)\n",
    "    text=re.sub('[^A-Za-z ]+', '',text)\n",
    "    text=re.sub(' +',' ', text)\n",
    "    \n",
    "    \n",
    "    words=text.split(' ')\n",
    "    for token in stop:\n",
    "        if token in words:\n",
    "                words.remove(token)\n",
    "    return re.sub(' +',' ', ' '.join(words))\n",
    "    \n",
    "    "
   ]
  },
  {
   "cell_type": "code",
   "execution_count": 11,
   "id": "9130a3ef",
   "metadata": {},
   "outputs": [],
   "source": [
    "df['review']=df['review'].apply(remove_stopwords)\n"
   ]
  },
  {
   "cell_type": "code",
   "execution_count": 12,
   "id": "286c6520",
   "metadata": {},
   "outputs": [
    {
     "data": {
      "text/html": [
       "<div>\n",
       "<style scoped>\n",
       "    .dataframe tbody tr th:only-of-type {\n",
       "        vertical-align: middle;\n",
       "    }\n",
       "\n",
       "    .dataframe tbody tr th {\n",
       "        vertical-align: top;\n",
       "    }\n",
       "\n",
       "    .dataframe thead th {\n",
       "        text-align: right;\n",
       "    }\n",
       "</style>\n",
       "<table border=\"1\" class=\"dataframe\">\n",
       "  <thead>\n",
       "    <tr style=\"text-align: right;\">\n",
       "      <th></th>\n",
       "      <th>review</th>\n",
       "      <th>rating</th>\n",
       "    </tr>\n",
       "  </thead>\n",
       "  <tbody>\n",
       "    <tr>\n",
       "      <th>0</th>\n",
       "      <td>bulging disc neck flares month hurting so bad ...</td>\n",
       "      <td>10.0</td>\n",
       "    </tr>\n",
       "    <tr>\n",
       "      <th>1</th>\n",
       "      <td>rated sometimes helped sometimes it i first be...</td>\n",
       "      <td>5.0</td>\n",
       "    </tr>\n",
       "    <tr>\n",
       "      <th>2</th>\n",
       "      <td>say im pregnant i got this terrible concoction...</td>\n",
       "      <td>6.0</td>\n",
       "    </tr>\n",
       "    <tr>\n",
       "      <th>3</th>\n",
       "      <td>gad tried celexa worked mental fog i tried lex...</td>\n",
       "      <td>10.0</td>\n",
       "    </tr>\n",
       "    <tr>\n",
       "      <th>4</th>\n",
       "      <td>started taking medicine feb i fall i already h...</td>\n",
       "      <td>1.0</td>\n",
       "    </tr>\n",
       "    <tr>\n",
       "      <th>...</th>\n",
       "      <td>...</td>\n",
       "      <td>...</td>\n",
       "    </tr>\n",
       "    <tr>\n",
       "      <th>2995</th>\n",
       "      <td>ive taken amitriptyline years amp migraines fo...</td>\n",
       "      <td>8.0</td>\n",
       "    </tr>\n",
       "    <tr>\n",
       "      <th>2996</th>\n",
       "      <td>skyla year insertion bad as i was expecting ho...</td>\n",
       "      <td>7.0</td>\n",
       "    </tr>\n",
       "    <tr>\n",
       "      <th>2997</th>\n",
       "      <td>ive implanon year got done dublini think it a ...</td>\n",
       "      <td>7.0</td>\n",
       "    </tr>\n",
       "    <tr>\n",
       "      <th>2998</th>\n",
       "      <td>worked well however heed warnings the label pr...</td>\n",
       "      <td>5.0</td>\n",
       "    </tr>\n",
       "    <tr>\n",
       "      <th>2999</th>\n",
       "      <td>im night worked great far even noticed signifi...</td>\n",
       "      <td>10.0</td>\n",
       "    </tr>\n",
       "  </tbody>\n",
       "</table>\n",
       "<p>3000 rows × 2 columns</p>\n",
       "</div>"
      ],
      "text/plain": [
       "                                                 review  rating\n",
       "0     bulging disc neck flares month hurting so bad ...    10.0\n",
       "1     rated sometimes helped sometimes it i first be...     5.0\n",
       "2     say im pregnant i got this terrible concoction...     6.0\n",
       "3     gad tried celexa worked mental fog i tried lex...    10.0\n",
       "4     started taking medicine feb i fall i already h...     1.0\n",
       "...                                                 ...     ...\n",
       "2995  ive taken amitriptyline years amp migraines fo...     8.0\n",
       "2996  skyla year insertion bad as i was expecting ho...     7.0\n",
       "2997  ive implanon year got done dublini think it a ...     7.0\n",
       "2998  worked well however heed warnings the label pr...     5.0\n",
       "2999  im night worked great far even noticed signifi...    10.0\n",
       "\n",
       "[3000 rows x 2 columns]"
      ]
     },
     "execution_count": 12,
     "metadata": {},
     "output_type": "execute_result"
    }
   ],
   "source": [
    "df"
   ]
  },
  {
   "cell_type": "code",
   "execution_count": 13,
   "id": "d6469284",
   "metadata": {},
   "outputs": [
    {
     "data": {
      "text/html": [
       "<div>\n",
       "<style scoped>\n",
       "    .dataframe tbody tr th:only-of-type {\n",
       "        vertical-align: middle;\n",
       "    }\n",
       "\n",
       "    .dataframe tbody tr th {\n",
       "        vertical-align: top;\n",
       "    }\n",
       "\n",
       "    .dataframe thead th {\n",
       "        text-align: right;\n",
       "    }\n",
       "</style>\n",
       "<table border=\"1\" class=\"dataframe\">\n",
       "  <thead>\n",
       "    <tr style=\"text-align: right;\">\n",
       "      <th></th>\n",
       "      <th>review</th>\n",
       "      <th>rating</th>\n",
       "    </tr>\n",
       "  </thead>\n",
       "  <tbody>\n",
       "    <tr>\n",
       "      <th>171</th>\n",
       "      <td>prescribed elavil help sleep i use to toss tur...</td>\n",
       "      <td>9.0</td>\n",
       "    </tr>\n",
       "    <tr>\n",
       "      <th>1722</th>\n",
       "      <td>would go one month without bowel movements im ...</td>\n",
       "      <td>10.0</td>\n",
       "    </tr>\n",
       "    <tr>\n",
       "      <th>1764</th>\n",
       "      <td>absolutely worst medicine ever ive been on ant...</td>\n",
       "      <td>1.0</td>\n",
       "    </tr>\n",
       "  </tbody>\n",
       "</table>\n",
       "</div>"
      ],
      "text/plain": [
       "                                                 review  rating\n",
       "171   prescribed elavil help sleep i use to toss tur...     9.0\n",
       "1722  would go one month without bowel movements im ...    10.0\n",
       "1764  absolutely worst medicine ever ive been on ant...     1.0"
      ]
     },
     "execution_count": 13,
     "metadata": {},
     "output_type": "execute_result"
    }
   ],
   "source": [
    "df.sample(3)"
   ]
  },
  {
   "cell_type": "markdown",
   "id": "8b9e4003",
   "metadata": {},
   "source": [
    "# LSTM\n"
   ]
  },
  {
   "cell_type": "code",
   "execution_count": 14,
   "id": "a0996dca",
   "metadata": {},
   "outputs": [
    {
     "data": {
      "text/plain": [
       "391"
      ]
     },
     "execution_count": 14,
     "metadata": {},
     "output_type": "execute_result"
    }
   ],
   "source": [
    "max(df.review.str.split().str.len())"
   ]
  },
  {
   "cell_type": "code",
   "execution_count": 15,
   "id": "10c72c6f",
   "metadata": {},
   "outputs": [
    {
     "data": {
      "text/plain": [
       "<AxesSubplot:>"
      ]
     },
     "execution_count": 15,
     "metadata": {},
     "output_type": "execute_result"
    },
    {
     "data": {
      "image/png": "[encoded data removed]",
      "text/plain": [
       "<Figure size 432x288 with 1 Axes>"
      ]
     },
     "metadata": {
      "needs_background": "light"
     },
     "output_type": "display_data"
    }
   ],
   "source": [
    "df.review.str.split().str.len().hist(bins=50, range=[0,200])"
   ]
  },
  {
   "cell_type": "code",
   "execution_count": 16,
   "id": "240bb5da",
   "metadata": {},
   "outputs": [
    {
     "data": {
      "text/plain": [
       "60.160333333333334"
      ]
     },
     "execution_count": 16,
     "metadata": {},
     "output_type": "execute_result"
    }
   ],
   "source": [
    "from statistics import mean\n",
    "mean(df.review.str.split().str.len())"
   ]
  },
  {
   "cell_type": "code",
   "execution_count": 17,
   "id": "5ca07678",
   "metadata": {},
   "outputs": [],
   "source": [
    "from keras.preprocessing import sequence\n",
    "from keras.preprocessing.text import Tokenizer"
   ]
  },
  {
   "cell_type": "code",
   "execution_count": 18,
   "id": "0f7a74ad",
   "metadata": {},
   "outputs": [],
   "source": [
    "#Lets  use a max sequence of 100"
   ]
  },
  {
   "cell_type": "code",
   "execution_count": 19,
   "id": "53bd032b",
   "metadata": {},
   "outputs": [
    {
     "data": {
      "text/plain": [
       "0     10.0\n",
       "1      5.0\n",
       "2      6.0\n",
       "4      1.0\n",
       "5      8.0\n",
       "6      9.0\n",
       "16     7.0\n",
       "18     2.0\n",
       "19     3.0\n",
       "20     4.0\n",
       "Name: rating, dtype: float64"
      ]
     },
     "execution_count": 19,
     "metadata": {},
     "output_type": "execute_result"
    }
   ],
   "source": [
    "df['rating'].drop_duplicates()"
   ]
  },
  {
   "cell_type": "markdown",
   "id": "bf7b4fc0",
   "metadata": {},
   "source": [
    "# Remap the review using de NPS score criteria \n",
    "\n",
    "Assuming that this score was given based on the client opinion we can identify three distinct kind of clientes: Promotor, Neutro, detractor, so we need to map the rating into three new ranges, based on the NPS criteria"
   ]
  },
  {
   "cell_type": "code",
   "execution_count": 20,
   "id": "96e4951e",
   "metadata": {},
   "outputs": [],
   "source": [
    "df.loc[df['rating'].isin([1,2]),'nps']=0\n",
    "df.loc[df['rating'].isin([3,4,5,6,7,8]),'nps']=1\n",
    "df.loc[df['rating'].isin([9,10]),'nps']=2"
   ]
  },
  {
   "cell_type": "code",
   "execution_count": 21,
   "id": "aca19854",
   "metadata": {},
   "outputs": [
    {
     "data": {
      "text/plain": [
       "(array([[0., 0., 1.],\n",
       "        [0., 1., 0.],\n",
       "        [0., 1., 0.],\n",
       "        ...,\n",
       "        [0., 1., 0.],\n",
       "        [0., 1., 0.],\n",
       "        [0., 0., 1.]]),\n",
       " array([2, 1, 1, ..., 1, 1, 2]))"
      ]
     },
     "execution_count": 21,
     "metadata": {},
     "output_type": "execute_result"
    }
   ],
   "source": [
    "arr = df['nps'].astype(int).values\n",
    "\n",
    "labels= np.zeros((len(df), int(df.nps.max())+1))\n",
    "labels[np.arange((len(df))), arr] = 1\n",
    "labels, arr"
   ]
  },
  {
   "cell_type": "code",
   "execution_count": 22,
   "id": "2db5c83c",
   "metadata": {},
   "outputs": [],
   "source": [
    "X=df['review'].values\n",
    "y=labels"
   ]
  },
  {
   "cell_type": "code",
   "execution_count": 23,
   "id": "1025a478",
   "metadata": {},
   "outputs": [],
   "source": [
    "#y = keras.utils.to_categorical(y)\n"
   ]
  },
  {
   "cell_type": "code",
   "execution_count": 24,
   "id": "9ba90e5f",
   "metadata": {},
   "outputs": [],
   "source": [
    "X_train, X_test, y_train, y_test = train_test_split(X, y, test_size=.2,random_state=21)"
   ]
  },
  {
   "cell_type": "code",
   "execution_count": 25,
   "id": "a46821d9",
   "metadata": {},
   "outputs": [
    {
     "data": {
      "text/plain": [
       "0       None\n",
       "1       None\n",
       "2       None\n",
       "3       None\n",
       "4       None\n",
       "        ... \n",
       "2395    None\n",
       "2396    None\n",
       "2397    None\n",
       "2398    None\n",
       "2399    None\n",
       "Name: 0, Length: 2400, dtype: object"
      ]
     },
     "execution_count": 25,
     "metadata": {},
     "output_type": "execute_result"
    }
   ],
   "source": [
    "words_count=set()\n",
    "pd.DataFrame(X_train)[0].str.split().apply(words_count.update)"
   ]
  },
  {
   "cell_type": "code",
   "execution_count": 26,
   "id": "f2d9c8a5",
   "metadata": {},
   "outputs": [
    {
     "data": {
      "text/plain": [
       "9349"
      ]
     },
     "execution_count": 26,
     "metadata": {},
     "output_type": "execute_result"
    }
   ],
   "source": [
    "len(words_count)"
   ]
  },
  {
   "cell_type": "code",
   "execution_count": 27,
   "id": "e763c420",
   "metadata": {},
   "outputs": [
    {
     "data": {
      "text/plain": [
       "((2400,), (600,), (2400, 3))"
      ]
     },
     "execution_count": 27,
     "metadata": {},
     "output_type": "execute_result"
    }
   ],
   "source": [
    "X_train.shape, X_test.shape, y_train.shape"
   ]
  },
  {
   "cell_type": "code",
   "execution_count": 28,
   "id": "1c59e6ce",
   "metadata": {},
   "outputs": [],
   "source": [
    "max_words=2500\n",
    "max_len=200"
   ]
  },
  {
   "cell_type": "code",
   "execution_count": 29,
   "id": "92dd55dc",
   "metadata": {},
   "outputs": [],
   "source": [
    "tokens=Tokenizer(num_words=max_words)\n",
    "tokens.fit_on_texts(X_train)"
   ]
  },
  {
   "cell_type": "code",
   "execution_count": 30,
   "id": "dbde5b16",
   "metadata": {},
   "outputs": [],
   "source": [
    "def text_to_sequence(x):\n",
    "    sequences= tokens.texts_to_sequences(x)\n",
    "    return sequence.pad_sequences(sequences, maxlen=max_len)"
   ]
  },
  {
   "cell_type": "code",
   "execution_count": 31,
   "id": "275d8420",
   "metadata": {},
   "outputs": [],
   "source": [
    "X_train_seq=text_to_sequence(X_train)"
   ]
  },
  {
   "cell_type": "code",
   "execution_count": 32,
   "id": "136f9736",
   "metadata": {},
   "outputs": [],
   "source": [
    "X_test_seq=text_to_sequence(X_test)"
   ]
  },
  {
   "cell_type": "code",
   "execution_count": 33,
   "id": "6ac58c4c",
   "metadata": {},
   "outputs": [
    {
     "data": {
      "text/plain": [
       "((2400, 200), (2400, 3))"
      ]
     },
     "execution_count": 33,
     "metadata": {},
     "output_type": "execute_result"
    }
   ],
   "source": [
    "X_train_seq.shape, y_train.shape\n"
   ]
  },
  {
   "cell_type": "code",
   "execution_count": 34,
   "id": "8e9ffd37",
   "metadata": {},
   "outputs": [
    {
     "name": "stderr",
     "output_type": "stream",
     "text": [
      "2022-06-13 12:02:10.660792: I tensorflow/core/platform/cpu_feature_guard.cc:145] This TensorFlow binary is optimized with Intel(R) MKL-DNN to use the following CPU instructions in performance critical operations:  SSE4.1 SSE4.2\n",
      "To enable them in non-MKL-DNN operations, rebuild TensorFlow with the appropriate compiler flags.\n",
      "2022-06-13 12:02:10.661501: I tensorflow/core/common_runtime/process_util.cc:115] Creating new thread pool with default inter op setting: 8. Tune using inter_op_parallelism_threads for best performance.\n"
     ]
    }
   ],
   "source": [
    "model = keras.Sequential()\n",
    "model.add(Embedding(max_words, 128 ,input_length=max_len))\n",
    "model.add(LSTM(4))\n",
    "model.add(Dense(labels.shape[1], activation='softmax'))\n",
    "model.compile(loss=keras.losses.CategoricalCrossentropy(), optimizer=keras.optimizers.Adam(learning_rate=1e-4, decay=1e-5), metrics=[keras.metrics.AUC()])\n",
    "\n",
    "epochs=10\n",
    "batch_size=8"
   ]
  },
  {
   "cell_type": "code",
   "execution_count": 35,
   "id": "d0d7b2b4",
   "metadata": {},
   "outputs": [
    {
     "name": "stdout",
     "output_type": "stream",
     "text": [
      "Model: \"sequential_1\"\n",
      "_________________________________________________________________\n",
      "Layer (type)                 Output Shape              Param #   \n",
      "=================================================================\n",
      "embedding_1 (Embedding)      (None, 200, 128)          320000    \n",
      "_________________________________________________________________\n",
      "lstm_1 (LSTM)                (None, 4)                 2128      \n",
      "_________________________________________________________________\n",
      "dense_1 (Dense)              (None, 3)                 15        \n",
      "=================================================================\n",
      "Total params: 322,143\n",
      "Trainable params: 322,143\n",
      "Non-trainable params: 0\n",
      "_________________________________________________________________\n",
      "None\n"
     ]
    }
   ],
   "source": [
    "print(model.summary())\n"
   ]
  },
  {
   "cell_type": "code",
   "execution_count": 36,
   "id": "761c6baf",
   "metadata": {},
   "outputs": [
    {
     "name": "stdout",
     "output_type": "stream",
     "text": [
      "Train on 2400 samples, validate on 600 samples\n",
      "Epoch 1/6\n",
      "2400/2400 [==============================] - 465s 194ms/step - loss: 1.0861 - auc_1: 0.6113 - val_loss: 1.0750 - val_auc_1: 0.6147\n",
      "Epoch 2/6\n",
      "2400/2400 [==============================] - 532s 222ms/step - loss: 1.0515 - auc_1: 0.6413 - val_loss: 1.0493 - val_auc_1: 0.6170\n",
      "Epoch 3/6\n",
      "2400/2400 [==============================] - 947s 395ms/step - loss: 1.0178 - auc_1: 0.6659 - val_loss: 1.0324 - val_auc_1: 0.6401\n",
      "Epoch 4/6\n",
      "2400/2400 [==============================] - 875s 364ms/step - loss: 0.9843 - auc_1: 0.7064 - val_loss: 1.0144 - val_auc_1: 0.6649\n",
      "Epoch 5/6\n",
      "2400/2400 [==============================] - 561s 234ms/step - loss: 0.9433 - auc_1: 0.7313 - val_loss: 0.9900 - val_auc_1: 0.6833\n",
      "Epoch 6/6\n",
      "2400/2400 [==============================] - 810s 338ms/step - loss: 0.8996 - auc_1: 0.7538 - val_loss: 0.9770 - val_auc_1: 0.6900\n"
     ]
    }
   ],
   "source": [
    "callback=callback = tf.keras.callbacks.EarlyStopping(monitor='loss', patience=3)\n",
    "history=model.fit(X_train_seq, y_train, epochs=6, batch_size=batch_size,validation_data=(X_test_seq, y_test),workers=-1,\n",
    "                 callbacks=[callback])"
   ]
  },
  {
   "cell_type": "code",
   "execution_count": 37,
   "id": "da1ae236",
   "metadata": {},
   "outputs": [
    {
     "data": {
      "image/png": "[encoded data removed]",
      "text/plain": [
       "<Figure size 432x288 with 1 Axes>"
      ]
     },
     "metadata": {
      "needs_background": "light"
     },
     "output_type": "display_data"
    }
   ],
   "source": [
    "plt.plot(history.history['loss'], label='loss')\n",
    "plt.plot(history.history['val_loss'], label='loss validation')\n",
    "plt.title('Loss history')\n",
    "plt.ylabel('Loss')\n",
    "plt.xlabel('No. epoch')\n",
    "plt.legend(loc=\"upper left\")\n",
    "plt.show()"
   ]
  },
  {
   "cell_type": "code",
   "execution_count": 38,
   "id": "65995671",
   "metadata": {},
   "outputs": [],
   "source": [
    "y_pred=model.predict(X_test_seq)"
   ]
  },
  {
   "cell_type": "code",
   "execution_count": 39,
   "id": "aca53801",
   "metadata": {},
   "outputs": [],
   "source": [
    "y_pred_ = tf.one_hot(tf.argmax(y_pred, axis=1), depth = 3)"
   ]
  },
  {
   "cell_type": "code",
   "execution_count": 40,
   "id": "5b4369e0",
   "metadata": {},
   "outputs": [],
   "source": [
    "y_pred_=y_pred_.numpy()"
   ]
  },
  {
   "cell_type": "code",
   "execution_count": 41,
   "id": "c8a014e2",
   "metadata": {},
   "outputs": [
    {
     "data": {
      "text/plain": [
       "{'val_loss': [1.0750314664840699,\n",
       "  1.049297308921814,\n",
       "  1.0323658005396525,\n",
       "  1.0144251863161722,\n",
       "  0.9900214711825053,\n",
       "  0.9769920563697815],\n",
       " 'val_auc_1': [0.6147201061248779,\n",
       "  0.6169770956039429,\n",
       "  0.6400882005691528,\n",
       "  0.6648777723312378,\n",
       "  0.6833479404449463,\n",
       "  0.6899563074111938],\n",
       " 'loss': [1.086131414969762,\n",
       "  1.051462404926618,\n",
       "  1.0178363305330276,\n",
       "  0.9842594496409098,\n",
       "  0.9432629712422689,\n",
       "  0.8996436325709025],\n",
       " 'auc_1': [0.6112824, 0.6413297, 0.66587037, 0.7063506, 0.73126006, 0.7538452]}"
      ]
     },
     "execution_count": 41,
     "metadata": {},
     "output_type": "execute_result"
    }
   ],
   "source": [
    "history.history"
   ]
  },
  {
   "cell_type": "code",
   "execution_count": 43,
   "id": "f06d2641",
   "metadata": {},
   "outputs": [
    {
     "data": {
      "image/png": "[encoded data removed]",
      "text/plain": [
       "<Figure size 432x288 with 1 Axes>"
      ]
     },
     "metadata": {
      "needs_background": "light"
     },
     "output_type": "display_data"
    }
   ],
   "source": [
    "plt.plot(history.history['auc_1'])\n",
    "plt.plot(history.history['val_auc_1'])\n",
    "plt.title('model acc')\n",
    "plt.ylabel('auc')\n",
    "plt.xlabel('epoch')\n",
    "plt.legend(['train', 'val'], loc='upper left')\n",
    "#plt.savefig(checkpoint_dir+'/val_ac_'+str(history.history['val_accuracy'][-1])+'.png')\n",
    "plt.show()\n"
   ]
  },
  {
   "cell_type": "code",
   "execution_count": 44,
   "id": "208f9659",
   "metadata": {},
   "outputs": [
    {
     "name": "stdout",
     "output_type": "stream",
     "text": [
      "              precision    recall  f1-score   support\n",
      "\n",
      "           0    0.71429   0.08547   0.15267       117\n",
      "           1    0.33333   0.12264   0.17931       212\n",
      "           2    0.43504   0.81550   0.56739       271\n",
      "\n",
      "   micro avg    0.42833   0.42833   0.42833       600\n",
      "   macro avg    0.49422   0.34120   0.29979       600\n",
      "weighted avg    0.45356   0.42833   0.34940       600\n",
      " samples avg    0.42833   0.42833   0.42833       600\n",
      "\n"
     ]
    }
   ],
   "source": [
    "print(sklearn.metrics.classification_report(y_test, y_pred_, digits=5))"
   ]
  },
  {
   "cell_type": "code",
   "execution_count": null,
   "id": "263fb8a2",
   "metadata": {},
   "outputs": [],
   "source": []
  }
 ],
 "metadata": {
  "kernelspec": {
   "display_name": "mlp",
   "language": "python",
   "name": "mlp"
  },
  "language_info": {
   "codemirror_mode": {
    "name": "ipython",
    "version": 3
   },
   "file_extension": ".py",
   "mimetype": "text/x-python",
   "name": "python",
   "nbconvert_exporter": "python",
   "pygments_lexer": "ipython3",
   "version": "3.7.11"
  }
 },
 "nbformat": 4,
 "nbformat_minor": 5
}
