{
 "cells": [
  {
   "cell_type": "code",
   "execution_count": 1,
   "id": "565aa9ec",
   "metadata": {},
   "outputs": [
    {
     "name": "stdout",
     "output_type": "stream",
     "text": [
      "WARNING:tensorflow:From /Users/joselopez/opt/miniconda3/envs/mlp/lib/python3.7/site-packages/tensorflow_core/python/compat/v2_compat.py:65: disable_resource_variables (from tensorflow.python.ops.variable_scope) is deprecated and will be removed in a future version.\n",
      "Instructions for updating:\n",
      "non-resource variables are not supported in the long term\n"
     ]
    },
    {
     "name": "stderr",
     "output_type": "stream",
     "text": [
      "Using TensorFlow backend.\n"
     ]
    }
   ],
   "source": [
    "import numpy as np\n",
    "import pandas as pd\n",
    "import seaborn as sns\n",
    "import matplotlib.pyplot as plt\n",
    "import nltk\n",
    "from sklearn.feature_extraction.text import CountVectorizer\n",
    "from sklearn.feature_extraction.text import TfidfVectorizer\n",
    "from sklearn.preprocessing import LabelBinarizer\n",
    "from nltk.corpus import stopwords\n",
    "from nltk.stem.porter import PorterStemmer\n",
    "from wordcloud import WordCloud,STOPWORDS\n",
    "from nltk.stem import WordNetLemmatizer\n",
    "from nltk.tokenize import word_tokenize,sent_tokenize\n",
    "from bs4 import BeautifulSoup\n",
    "import spacy\n",
    "import re,string,unicodedata\n",
    "from nltk.tokenize.toktok import ToktokTokenizer\n",
    "from nltk.stem import LancasterStemmer,WordNetLemmatizer\n",
    "from sklearn.linear_model import LogisticRegression,SGDClassifier\n",
    "from sklearn.naive_bayes import MultinomialNB\n",
    "from sklearn.svm import SVC\n",
    "from textblob import TextBlob\n",
    "from textblob import Word\n",
    "from sklearn.metrics import classification_report,confusion_matrix,accuracy_score, auc, roc_curve\n",
    "from sklearn import metrics\n",
    "from sklearn.model_selection import train_test_split\n",
    "from keras.wrappers.scikit_learn import KerasClassifier\n",
    "\n",
    "\n",
    "\n",
    "import sklearn\n",
    "import ssl\n",
    "import os\n",
    "import warnings\n",
    "warnings.filterwarnings('ignore')\n",
    "\n",
    "\n",
    "import tensorflow.compat.v1 as tf\n",
    "tf.disable_v2_behavior()\n",
    "import tensorflow\n",
    "tensorflow.compat.v1.enable_eager_execution()\n",
    "\n",
    "import tensorflow_hub as hub\n",
    "from keras.layers import LSTM, embeddings, Dense, Embedding\n",
    "import keras\n",
    "import tensorflow as tf\n"
   ]
  },
  {
   "cell_type": "code",
   "execution_count": 2,
   "id": "6e92e746",
   "metadata": {},
   "outputs": [
    {
     "name": "stderr",
     "output_type": "stream",
     "text": [
      "[nltk_data] Downloading package stopwords to\n",
      "[nltk_data]     /Users/joselopez/nltk_data...\n",
      "[nltk_data]   Unzipping corpora/stopwords.zip.\n"
     ]
    },
    {
     "data": {
      "text/plain": [
       "True"
      ]
     },
     "execution_count": 2,
     "metadata": {},
     "output_type": "execute_result"
    }
   ],
   "source": [
    "\n",
    "try:\n",
    "    _create_unverified_https_context = ssl._create_unverified_context\n",
    "except AttributeError:\n",
    "    pass\n",
    "else:\n",
    "    ssl._create_default_https_context = _create_unverified_https_context\n",
    "\n",
    "nltk.download('stopwords')"
   ]
  },
  {
   "cell_type": "code",
   "execution_count": 3,
   "id": "050158de",
   "metadata": {},
   "outputs": [],
   "source": [
    "df=pd.read_csv('./drugsCom_raw/drugsComTrain_raw.tsv', sep='\\t',index_col=0 )"
   ]
  },
  {
   "cell_type": "code",
   "execution_count": 4,
   "id": "be0406a2",
   "metadata": {},
   "outputs": [
    {
     "data": {
      "text/plain": [
       "drugName         0\n",
       "condition      899\n",
       "review           0\n",
       "rating           0\n",
       "date             0\n",
       "usefulCount      0\n",
       "dtype: int64"
      ]
     },
     "execution_count": 4,
     "metadata": {},
     "output_type": "execute_result"
    }
   ],
   "source": [
    "df.isna().sum()\n"
   ]
  },
  {
   "cell_type": "code",
   "execution_count": 5,
   "id": "c1abce5b",
   "metadata": {},
   "outputs": [],
   "source": [
    "df=df[['review','rating']]"
   ]
  },
  {
   "cell_type": "code",
   "execution_count": 6,
   "id": "6f7ce140",
   "metadata": {},
   "outputs": [
    {
     "data": {
      "text/html": [
       "<div>\n",
       "<style scoped>\n",
       "    .dataframe tbody tr th:only-of-type {\n",
       "        vertical-align: middle;\n",
       "    }\n",
       "\n",
       "    .dataframe tbody tr th {\n",
       "        vertical-align: top;\n",
       "    }\n",
       "\n",
       "    .dataframe thead th {\n",
       "        text-align: right;\n",
       "    }\n",
       "</style>\n",
       "<table border=\"1\" class=\"dataframe\">\n",
       "  <thead>\n",
       "    <tr style=\"text-align: right;\">\n",
       "      <th></th>\n",
       "      <th>review</th>\n",
       "      <th>rating</th>\n",
       "    </tr>\n",
       "  </thead>\n",
       "  <tbody>\n",
       "    <tr>\n",
       "      <th>14557</th>\n",
       "      <td>\"I had always &amp;quot;played&amp;#039; with pills bu...</td>\n",
       "      <td>10.0</td>\n",
       "    </tr>\n",
       "    <tr>\n",
       "      <th>185059</th>\n",
       "      <td>\"Hi all, I only just picked up the prescriptio...</td>\n",
       "      <td>10.0</td>\n",
       "    </tr>\n",
       "    <tr>\n",
       "      <th>56227</th>\n",
       "      <td>\"Started my humira on Thursday and was suicida...</td>\n",
       "      <td>1.0</td>\n",
       "    </tr>\n",
       "    <tr>\n",
       "      <th>19558</th>\n",
       "      <td>\"Lyrica is the best medication for generalized...</td>\n",
       "      <td>10.0</td>\n",
       "    </tr>\n",
       "    <tr>\n",
       "      <th>70106</th>\n",
       "      <td>\"Diagnosed in Feb of 2015 and tried 2 other dr...</td>\n",
       "      <td>9.0</td>\n",
       "    </tr>\n",
       "  </tbody>\n",
       "</table>\n",
       "</div>"
      ],
      "text/plain": [
       "                                                   review  rating\n",
       "14557   \"I had always &quot;played&#039; with pills bu...    10.0\n",
       "185059  \"Hi all, I only just picked up the prescriptio...    10.0\n",
       "56227   \"Started my humira on Thursday and was suicida...     1.0\n",
       "19558   \"Lyrica is the best medication for generalized...    10.0\n",
       "70106   \"Diagnosed in Feb of 2015 and tried 2 other dr...     9.0"
      ]
     },
     "execution_count": 6,
     "metadata": {},
     "output_type": "execute_result"
    }
   ],
   "source": [
    "df.sample(5)"
   ]
  },
  {
   "cell_type": "code",
   "execution_count": 7,
   "id": "e8857f79",
   "metadata": {},
   "outputs": [
    {
     "data": {
      "text/plain": [
       "array([ 9.,  8.,  5.,  2.,  1., 10.,  4.,  3.,  7.,  6.])"
      ]
     },
     "execution_count": 7,
     "metadata": {},
     "output_type": "execute_result"
    }
   ],
   "source": [
    "df.rating.drop_duplicates().values"
   ]
  },
  {
   "cell_type": "code",
   "execution_count": 8,
   "id": "59b555e2",
   "metadata": {},
   "outputs": [
    {
     "data": {
      "image/png": "[encoded data removed]",
      "text/plain": [
       "<Figure size 720x288 with 1 Axes>"
      ]
     },
     "metadata": {
      "needs_background": "light"
     },
     "output_type": "display_data"
    }
   ],
   "source": [
    "plt.figure(figsize=(10,4))\n",
    "df.rating.value_counts().plot(kind='bar');"
   ]
  },
  {
   "cell_type": "code",
   "execution_count": 9,
   "id": "ca0f76e2",
   "metadata": {},
   "outputs": [],
   "source": [
    "#Tokenization of text\n",
    "tokenizer=ToktokTokenizer()\n",
    "#Setting English stopwords\n",
    "stopword_list=nltk.corpus.stopwords.words('english')"
   ]
  },
  {
   "cell_type": "code",
   "execution_count": 10,
   "id": "b2fef8b7",
   "metadata": {},
   "outputs": [],
   "source": [
    "stop=stopword_list\n",
    "\n",
    "def remove_stopwords(text, is_lower_case=False):\n",
    "    tokens = tokenizer.tokenize(text)\n",
    "    tokens = [token.strip() for token in tokens]\n",
    "    if is_lower_case:\n",
    "        filtered_tokens = [token for token in tokens if token not in stopword_list]\n",
    "    else:\n",
    "        filtered_tokens = [token for token in tokens if token.lower() not in stopword_list]\n",
    "    filtered_text = ' '.join(filtered_tokens)    \n",
    "    return filtered_text\n"
   ]
  },
  {
   "cell_type": "code",
   "execution_count": 11,
   "id": "9130a3ef",
   "metadata": {},
   "outputs": [],
   "source": [
    "df['review']=df['review'].apply(remove_stopwords)\n"
   ]
  },
  {
   "cell_type": "code",
   "execution_count": 12,
   "id": "cfe2a3c1",
   "metadata": {},
   "outputs": [],
   "source": [
    "#Removing the html strips\n",
    "def strip_html(text):\n",
    "    soup = BeautifulSoup(text, \"html.parser\")\n",
    "    return soup.get_text()\n",
    "\n",
    "#Removing the square brackets\n",
    "def remove_between_square_brackets(text):\n",
    "    return re.sub('\\[[^]]*\\]', '', text)\n",
    "\n",
    "def remove_special_characters(text, remove_digits=True):\n",
    "    pattern=r'[^A-Za-z0-9À-ÖØ-öø-ÿ\\s]'\n",
    "    text=re.sub(pattern,'',text)\n",
    "    text=re.sub(r'\\n', '', text)\n",
    "    return text\n",
    "\n",
    "#Removing the noisy text\n",
    "def denoise_text(text):\n",
    "    text = strip_html(text)\n",
    "    text = remove_between_square_brackets(text)\n",
    "    text= remove_special_characters(text)\n",
    "    text=re.sub(r\"(?<=\\w)([A-Z])\", r\" \\1\", text)\n",
    "    return text\n",
    "#Apply function on review column\n",
    "df['review']=df['review'].apply(denoise_text)"
   ]
  },
  {
   "cell_type": "code",
   "execution_count": 13,
   "id": "43716c57",
   "metadata": {},
   "outputs": [
    {
     "data": {
      "text/html": [
       "<div>\n",
       "<style scoped>\n",
       "    .dataframe tbody tr th:only-of-type {\n",
       "        vertical-align: middle;\n",
       "    }\n",
       "\n",
       "    .dataframe tbody tr th {\n",
       "        vertical-align: top;\n",
       "    }\n",
       "\n",
       "    .dataframe thead th {\n",
       "        text-align: right;\n",
       "    }\n",
       "</style>\n",
       "<table border=\"1\" class=\"dataframe\">\n",
       "  <thead>\n",
       "    <tr style=\"text-align: right;\">\n",
       "      <th></th>\n",
       "      <th>review</th>\n",
       "      <th>rating</th>\n",
       "    </tr>\n",
       "  </thead>\n",
       "  <tbody>\n",
       "    <tr>\n",
       "      <th>55939</th>\n",
       "      <td>medication helped panic attacks anxiety still...</td>\n",
       "      <td>7.0</td>\n",
       "    </tr>\n",
       "    <tr>\n",
       "      <th>228156</th>\n",
       "      <td>23 years old got Implanon inserted October 20...</td>\n",
       "      <td>5.0</td>\n",
       "    </tr>\n",
       "    <tr>\n",
       "      <th>171709</th>\n",
       "      <td>I  19 years old suffered depression since 11 ...</td>\n",
       "      <td>10.0</td>\n",
       "    </tr>\n",
       "    <tr>\n",
       "      <th>222939</th>\n",
       "      <td>Topamax 4 years brain tumor migraines seizure...</td>\n",
       "      <td>10.0</td>\n",
       "    </tr>\n",
       "    <tr>\n",
       "      <th>170124</th>\n",
       "      <td>Took 25mg gained 9lbs 2weeks hard wake mornin...</td>\n",
       "      <td>8.0</td>\n",
       "    </tr>\n",
       "  </tbody>\n",
       "</table>\n",
       "</div>"
      ],
      "text/plain": [
       "                                                   review  rating\n",
       "55939    medication helped panic attacks anxiety still...     7.0\n",
       "228156   23 years old got Implanon inserted October 20...     5.0\n",
       "171709   I  19 years old suffered depression since 11 ...    10.0\n",
       "222939   Topamax 4 years brain tumor migraines seizure...    10.0\n",
       "170124   Took 25mg gained 9lbs 2weeks hard wake mornin...     8.0"
      ]
     },
     "execution_count": 13,
     "metadata": {},
     "output_type": "execute_result"
    }
   ],
   "source": [
    "df.sample(5)"
   ]
  },
  {
   "cell_type": "code",
   "execution_count": 14,
   "id": "a49a550a",
   "metadata": {},
   "outputs": [],
   "source": [
    "def simple_stemmer(text):\n",
    "    ps=nltk.porter.PorterStemmer()\n",
    "    text= ' '.join([ps.stem(word) for word in text.split()])\n",
    "    return text"
   ]
  },
  {
   "cell_type": "code",
   "execution_count": 15,
   "id": "d6469284",
   "metadata": {},
   "outputs": [
    {
     "data": {
      "text/html": [
       "<div>\n",
       "<style scoped>\n",
       "    .dataframe tbody tr th:only-of-type {\n",
       "        vertical-align: middle;\n",
       "    }\n",
       "\n",
       "    .dataframe tbody tr th {\n",
       "        vertical-align: top;\n",
       "    }\n",
       "\n",
       "    .dataframe thead th {\n",
       "        text-align: right;\n",
       "    }\n",
       "</style>\n",
       "<table border=\"1\" class=\"dataframe\">\n",
       "  <thead>\n",
       "    <tr style=\"text-align: right;\">\n",
       "      <th></th>\n",
       "      <th>review</th>\n",
       "      <th>rating</th>\n",
       "    </tr>\n",
       "  </thead>\n",
       "  <tbody>\n",
       "    <tr>\n",
       "      <th>62167</th>\n",
       "      <td>celexa depress thirteen year total six first t...</td>\n",
       "      <td>7.0</td>\n",
       "    </tr>\n",
       "    <tr>\n",
       "      <th>15875</th>\n",
       "      <td>first time took medic last month 1st day perio...</td>\n",
       "      <td>8.0</td>\n",
       "    </tr>\n",
       "    <tr>\n",
       "      <th>212001</th>\n",
       "      <td>cognit side effect weren bad go medic made dev...</td>\n",
       "      <td>4.0</td>\n",
       "    </tr>\n",
       "  </tbody>\n",
       "</table>\n",
       "</div>"
      ],
      "text/plain": [
       "                                                   review  rating\n",
       "62167   celexa depress thirteen year total six first t...     7.0\n",
       "15875   first time took medic last month 1st day perio...     8.0\n",
       "212001  cognit side effect weren bad go medic made dev...     4.0"
      ]
     },
     "execution_count": 15,
     "metadata": {},
     "output_type": "execute_result"
    }
   ],
   "source": [
    "df['review']=df['review'].apply(simple_stemmer)\n",
    "df.sample(3)"
   ]
  },
  {
   "cell_type": "markdown",
   "id": "8b9e4003",
   "metadata": {},
   "source": [
    "# Encoding the input for a LSTM\n"
   ]
  },
  {
   "cell_type": "code",
   "execution_count": 16,
   "id": "afd0fa3e",
   "metadata": {},
   "outputs": [
    {
     "data": {
      "text/html": [
       "<div>\n",
       "<style scoped>\n",
       "    .dataframe tbody tr th:only-of-type {\n",
       "        vertical-align: middle;\n",
       "    }\n",
       "\n",
       "    .dataframe tbody tr th {\n",
       "        vertical-align: top;\n",
       "    }\n",
       "\n",
       "    .dataframe thead th {\n",
       "        text-align: right;\n",
       "    }\n",
       "</style>\n",
       "<table border=\"1\" class=\"dataframe\">\n",
       "  <thead>\n",
       "    <tr style=\"text-align: right;\">\n",
       "      <th></th>\n",
       "      <th>review</th>\n",
       "      <th>rating</th>\n",
       "    </tr>\n",
       "  </thead>\n",
       "  <tbody>\n",
       "    <tr>\n",
       "      <th>64782</th>\n",
       "      <td>zoloft 20 year medic field far someon extens e...</td>\n",
       "      <td>8.0</td>\n",
       "    </tr>\n",
       "    <tr>\n",
       "      <th>146978</th>\n",
       "      <td>psychiatrist prescrib 15 xanax 05mg per month ...</td>\n",
       "      <td>10.0</td>\n",
       "    </tr>\n",
       "    <tr>\n",
       "      <th>231739</th>\n",
       "      <td>help sleep run thought wake panick</td>\n",
       "      <td>8.0</td>\n",
       "    </tr>\n",
       "  </tbody>\n",
       "</table>\n",
       "</div>"
      ],
      "text/plain": [
       "                                                   review  rating\n",
       "64782   zoloft 20 year medic field far someon extens e...     8.0\n",
       "146978  psychiatrist prescrib 15 xanax 05mg per month ...    10.0\n",
       "231739                 help sleep run thought wake panick     8.0"
      ]
     },
     "execution_count": 16,
     "metadata": {},
     "output_type": "execute_result"
    }
   ],
   "source": [
    "df.sample(3)"
   ]
  },
  {
   "cell_type": "code",
   "execution_count": null,
   "id": "362f8c4d",
   "metadata": {},
   "outputs": [],
   "source": []
  },
  {
   "cell_type": "code",
   "execution_count": 17,
   "id": "2db5c83c",
   "metadata": {},
   "outputs": [],
   "source": [
    "X=df['review'].values\n",
    "y=df['rating'].values"
   ]
  },
  {
   "cell_type": "code",
   "execution_count": 18,
   "id": "1025a478",
   "metadata": {},
   "outputs": [],
   "source": [
    "y = keras.utils.to_categorical(y)"
   ]
  },
  {
   "cell_type": "code",
   "execution_count": 19,
   "id": "9ba90e5f",
   "metadata": {},
   "outputs": [],
   "source": [
    "X_train, X_test, y_train, y_test = train_test_split(X, y, test_size=.2)"
   ]
  },
  {
   "cell_type": "code",
   "execution_count": 20,
   "id": "e763c420",
   "metadata": {},
   "outputs": [
    {
     "data": {
      "text/plain": [
       "((129037,), (32260,), (129037, 11))"
      ]
     },
     "execution_count": 20,
     "metadata": {},
     "output_type": "execute_result"
    }
   ],
   "source": [
    "X_train.shape, X_test.shape, y_train.shape"
   ]
  },
  {
   "cell_type": "code",
   "execution_count": null,
   "id": "a7f56c2b",
   "metadata": {},
   "outputs": [],
   "source": [
    "vectorizer = TfidfVectorizer(min_df=.2)\n",
    "X_train = vectorizer.fit_transform(X_train).toarray() # sparse also works but Explanation slicing is not yet supported\n",
    "X_test = vectorizer.transform(X_test).toarray()"
   ]
  },
  {
   "cell_type": "code",
   "execution_count": 22,
   "id": "c7fb4cd9",
   "metadata": {},
   "outputs": [
    {
     "data": {
      "text/plain": [
       "(61,)"
      ]
     },
     "execution_count": 22,
     "metadata": {},
     "output_type": "execute_result"
    }
   ],
   "source": [
    "X_train[0].shape"
   ]
  },
  {
   "cell_type": "code",
   "execution_count": 23,
   "id": "1b341ebd",
   "metadata": {},
   "outputs": [
    {
     "data": {
      "text/plain": [
       "((61,), (129037, 11))"
      ]
     },
     "execution_count": 23,
     "metadata": {},
     "output_type": "execute_result"
    }
   ],
   "source": [
    "X_train[20].shape, y_train.shape"
   ]
  },
  {
   "cell_type": "code",
   "execution_count": null,
   "id": "92dd55dc",
   "metadata": {},
   "outputs": [],
   "source": []
  },
  {
   "cell_type": "code",
   "execution_count": null,
   "id": "65b06007",
   "metadata": {},
   "outputs": [],
   "source": []
  },
  {
   "cell_type": "code",
   "execution_count": 24,
   "id": "8e9ffd37",
   "metadata": {},
   "outputs": [
    {
     "name": "stderr",
     "output_type": "stream",
     "text": [
      "2022-03-14 16:31:54.293076: I tensorflow/core/platform/cpu_feature_guard.cc:145] This TensorFlow binary is optimized with Intel(R) MKL-DNN to use the following CPU instructions in performance critical operations:  SSE4.1 SSE4.2\n",
      "To enable them in non-MKL-DNN operations, rebuild TensorFlow with the appropriate compiler flags.\n",
      "2022-03-14 16:31:54.294380: I tensorflow/core/common_runtime/process_util.cc:115] Creating new thread pool with default inter op setting: 8. Tune using inter_op_parallelism_threads for best performance.\n"
     ]
    }
   ],
   "source": [
    "model = keras.Sequential()\n",
    "model.add(Embedding(61, 32, input_length=61))\n",
    "model.add(LSTM(4))\n",
    "model.add(Dense(11, activation='softmax'))\n",
    "model.compile(loss=keras.losses.CategoricalCrossentropy(), optimizer=keras.optimizers.Adam(learning_rate=0.01), metrics=[keras.metrics.AUC()])\n"
   ]
  },
  {
   "cell_type": "code",
   "execution_count": 31,
   "id": "d0d7b2b4",
   "metadata": {},
   "outputs": [
    {
     "name": "stdout",
     "output_type": "stream",
     "text": [
      "Model: \"sequential_1\"\n",
      "_________________________________________________________________\n",
      "Layer (type)                 Output Shape              Param #   \n",
      "=================================================================\n",
      "embedding_1 (Embedding)      (None, 61, 32)            1952      \n",
      "_________________________________________________________________\n",
      "lstm_1 (LSTM)                (None, 4)                 592       \n",
      "_________________________________________________________________\n",
      "dense_1 (Dense)              (None, 11)                55        \n",
      "=================================================================\n",
      "Total params: 2,599\n",
      "Trainable params: 2,599\n",
      "Non-trainable params: 0\n",
      "_________________________________________________________________\n",
      "None\n"
     ]
    }
   ],
   "source": [
    "print(model.summary())\n"
   ]
  },
  {
   "cell_type": "code",
   "execution_count": 26,
   "id": "761c6baf",
   "metadata": {},
   "outputs": [
    {
     "name": "stdout",
     "output_type": "stream",
     "text": [
      "Train on 129037 samples, validate on 32260 samples\n",
      "Epoch 1/10\n",
      "129037/129037 [==============================] - 39s 304us/step - loss: 2.0266 - auc_1: 0.7537 - val_loss: 2.0053 - val_auc_1: 0.7583\n",
      "Epoch 2/10\n",
      "129037/129037 [==============================] - 40s 306us/step - loss: 2.0035 - auc_1: 0.7589 - val_loss: 2.0040 - val_auc_1: 0.7591\n",
      "Epoch 3/10\n",
      "129037/129037 [==============================] - 40s 312us/step - loss: 2.0035 - auc_1: 0.7586 - val_loss: 2.0036 - val_auc_1: 0.7581\n",
      "Epoch 4/10\n",
      "129037/129037 [==============================] - 41s 320us/step - loss: 2.0032 - auc_1: 0.7586 - val_loss: 2.0033 - val_auc_1: 0.7586\n",
      "Epoch 5/10\n",
      "129037/129037 [==============================] - 41s 318us/step - loss: 2.0032 - auc_1: 0.7587 - val_loss: 2.0038 - val_auc_1: 0.7582\n",
      "Epoch 6/10\n",
      "129037/129037 [==============================] - 42s 322us/step - loss: 2.0030 - auc_1: 0.7586 - val_loss: 2.0040 - val_auc_1: 0.7590\n",
      "Epoch 7/10\n",
      "129037/129037 [==============================] - 41s 319us/step - loss: 2.0029 - auc_1: 0.7586 - val_loss: 2.0031 - val_auc_1: 0.7591\n",
      "Epoch 8/10\n",
      "129037/129037 [==============================] - 41s 316us/step - loss: 2.0028 - auc_1: 0.7587 - val_loss: 2.0033 - val_auc_1: 0.7580\n",
      "Epoch 9/10\n",
      "129037/129037 [==============================] - 41s 319us/step - loss: 2.0032 - auc_1: 0.7586 - val_loss: 2.0033 - val_auc_1: 0.7591\n",
      "Epoch 10/10\n",
      "129037/129037 [==============================] - 44s 343us/step - loss: 2.0029 - auc_1: 0.7587 - val_loss: 2.0053 - val_auc_1: 0.7570\n"
     ]
    }
   ],
   "source": [
    "history=model.fit(X_train, y_train, epochs=10, batch_size=512,validation_data=(X_test, y_test))"
   ]
  },
  {
   "cell_type": "code",
   "execution_count": 64,
   "id": "da1ae236",
   "metadata": {},
   "outputs": [
    {
     "data": {
      "image/png": "[encoded data removed]",
      "text/plain": [
       "<Figure size 432x288 with 1 Axes>"
      ]
     },
     "metadata": {
      "needs_background": "light"
     },
     "output_type": "display_data"
    }
   ],
   "source": [
    "plt.plot(history.history['loss'], label='loss')\n",
    "plt.plot(history.history['val_loss'], label='loss validation')\n",
    "plt.title('Loss history')\n",
    "plt.ylabel('Loss')\n",
    "plt.xlabel('No. epoch')\n",
    "plt.legend(loc=\"upper left\")\n",
    "plt.show()"
   ]
  },
  {
   "cell_type": "code",
   "execution_count": 28,
   "id": "63aa8042",
   "metadata": {},
   "outputs": [
    {
     "data": {
      "text/plain": [
       "{'val_loss': [2.005315742120193,\n",
       "  2.003957056038437,\n",
       "  2.003606838848897,\n",
       "  2.0033111306797697,\n",
       "  2.003846123110635,\n",
       "  2.0040034277573624,\n",
       "  2.003066870815918,\n",
       "  2.003251270159977,\n",
       "  2.0032594201288383,\n",
       "  2.0052553973135856],\n",
       " 'val_auc_1': [0.7583394050598145,\n",
       "  0.7590540051460266,\n",
       "  0.7581210136413574,\n",
       "  0.7586401700973511,\n",
       "  0.7581735849380493,\n",
       "  0.7589715123176575,\n",
       "  0.7590848207473755,\n",
       "  0.7579828500747681,\n",
       "  0.7590813636779785,\n",
       "  0.7570174932479858],\n",
       " 'loss': [2.0266064597257776,\n",
       "  2.003518258729782,\n",
       "  2.00345472414726,\n",
       "  2.0031658356362505,\n",
       "  2.003154614558957,\n",
       "  2.003014790066447,\n",
       "  2.0029356582911393,\n",
       "  2.0027685647177575,\n",
       "  2.003158065530099,\n",
       "  2.002865541561186],\n",
       " 'auc_1': [0.753739,\n",
       "  0.75889856,\n",
       "  0.75855863,\n",
       "  0.75864995,\n",
       "  0.758718,\n",
       "  0.7586088,\n",
       "  0.7585751,\n",
       "  0.758731,\n",
       "  0.7586392,\n",
       "  0.7586791]}"
      ]
     },
     "execution_count": 28,
     "metadata": {},
     "output_type": "execute_result"
    }
   ],
   "source": [
    "history.history"
   ]
  },
  {
   "cell_type": "code",
   "execution_count": 39,
   "id": "65995671",
   "metadata": {},
   "outputs": [],
   "source": [
    "y_pred=model.predict(X_test)"
   ]
  },
  {
   "cell_type": "code",
   "execution_count": 55,
   "id": "aca53801",
   "metadata": {},
   "outputs": [],
   "source": [
    "y_pred_ = tf.one_hot(tf.argmax(y_pred, axis=1), depth = 11)"
   ]
  },
  {
   "cell_type": "code",
   "execution_count": 61,
   "id": "5b4369e0",
   "metadata": {},
   "outputs": [],
   "source": [
    "y_pred_=y_pred_.numpy()"
   ]
  },
  {
   "cell_type": "code",
   "execution_count": null,
   "id": "f06d2641",
   "metadata": {},
   "outputs": [],
   "source": []
  },
  {
   "cell_type": "code",
   "execution_count": 65,
   "id": "208f9659",
   "metadata": {},
   "outputs": [
    {
     "name": "stdout",
     "output_type": "stream",
     "text": [
      "              precision    recall  f1-score   support\n",
      "\n",
      "           0    0.00000   0.00000   0.00000         0\n",
      "           1    0.00000   0.00000   0.00000      4388\n",
      "           2    0.00000   0.00000   0.00000      1386\n",
      "           3    0.00000   0.00000   0.00000      1293\n",
      "           4    0.00000   0.00000   0.00000      1009\n",
      "           5    0.00000   0.00000   0.00000      1552\n",
      "           6    0.00000   0.00000   0.00000      1271\n",
      "           7    0.00000   0.00000   0.00000      1895\n",
      "           8    0.00000   0.00000   0.00000      3818\n",
      "           9    0.00000   0.00000   0.00000      5522\n",
      "          10    0.31389   1.00000   0.47780     10126\n",
      "\n",
      "   micro avg    0.31389   0.31389   0.31389     32260\n",
      "   macro avg    0.02854   0.09091   0.04344     32260\n",
      "weighted avg    0.09853   0.31389   0.14998     32260\n",
      " samples avg    0.31389   0.31389   0.31389     32260\n",
      "\n"
     ]
    }
   ],
   "source": [
    "print(sklearn.metrics.classification_report(y_test, y_pred_, digits=5))"
   ]
  },
  {
   "cell_type": "code",
   "execution_count": null,
   "id": "263fb8a2",
   "metadata": {},
   "outputs": [],
   "source": []
  }
 ],
 "metadata": {
  "kernelspec": {
   "display_name": "mlp",
   "language": "python",
   "name": "mlp"
  },
  "language_info": {
   "codemirror_mode": {
    "name": "ipython",
    "version": 3
   },
   "file_extension": ".py",
   "mimetype": "text/x-python",
   "name": "python",
   "nbconvert_exporter": "python",
   "pygments_lexer": "ipython3",
   "version": "3.7.11"
  }
 },
 "nbformat": 4,
 "nbformat_minor": 5
}
